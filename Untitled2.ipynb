{
  "nbformat": 4,
  "nbformat_minor": 0,
  "metadata": {
    "colab": {
      "name": "Untitled2.ipynb",
      "provenance": [],
      "authorship_tag": "ABX9TyNvxNvk6pYvH0t1j5ZwqqAN",
      "include_colab_link": true
    },
    "kernelspec": {
      "name": "python3",
      "display_name": "Python 3"
    },
    "language_info": {
      "name": "python"
    }
  },
  "cells": [
    {
      "cell_type": "markdown",
      "metadata": {
        "id": "view-in-github",
        "colab_type": "text"
      },
      "source": [
        "<a href=\"https://colab.research.google.com/github/LuisAlbertoBB/Luis-learning-projects/blob/main/Untitled2.ipynb\" target=\"_parent\"><img src=\"https://colab.research.google.com/assets/colab-badge.svg\" alt=\"Open In Colab\"/></a>"
      ]
    },
    {
      "cell_type": "markdown",
      "source": [
        "## Logica de programação com Python"
      ],
      "metadata": {
        "id": "Ie0P9zVT_uQI"
      }
    },
    {
      "cell_type": "code",
      "execution_count": 1,
      "metadata": {
        "colab": {
          "base_uri": "https://localhost:8080/"
        },
        "id": "QhbgWhcj_LqU",
        "outputId": "f1e4ae85-31f7-41b7-dbd0-5e77765a6c19"
      },
      "outputs": [
        {
          "output_type": "execute_result",
          "data": {
            "text/plain": [
              "2"
            ]
          },
          "metadata": {},
          "execution_count": 1
        }
      ],
      "source": [
        "1 + 1"
      ]
    },
    {
      "cell_type": "code",
      "source": [
        "\"Luis\""
      ],
      "metadata": {
        "colab": {
          "base_uri": "https://localhost:8080/",
          "height": 0
        },
        "id": "cZvibG8X_65l",
        "outputId": "e31894c3-2462-46dd-b70e-32e40e3e2a52"
      },
      "execution_count": 2,
      "outputs": [
        {
          "output_type": "execute_result",
          "data": {
            "text/plain": [
              "'Guilherme'"
            ],
            "application/vnd.google.colaboratory.intrinsic+json": {
              "type": "string"
            }
          },
          "metadata": {},
          "execution_count": 2
        }
      ]
    },
    {
      "cell_type": "code",
      "source": [
        "'Luis'"
      ],
      "metadata": {
        "colab": {
          "base_uri": "https://localhost:8080/",
          "height": 0
        },
        "id": "u-18WFMj_8vQ",
        "outputId": "dd2559ce-370d-4ca1-b986-9f8e9274eaa6"
      },
      "execution_count": 3,
      "outputs": [
        {
          "output_type": "execute_result",
          "data": {
            "text/plain": [
              "'Luis'"
            ],
            "application/vnd.google.colaboratory.intrinsic+json": {
              "type": "string"
            }
          },
          "metadata": {},
          "execution_count": 3
        }
      ]
    },
    {
      "cell_type": "code",
      "source": [
        "nome = 'Luis'"
      ],
      "metadata": {
        "id": "IMa34K-KAAcB"
      },
      "execution_count": 4,
      "outputs": []
    },
    {
      "cell_type": "code",
      "source": [
        "nome"
      ],
      "metadata": {
        "colab": {
          "base_uri": "https://localhost:8080/",
          "height": 0
        },
        "id": "WaLnwI8qAWgR",
        "outputId": "c0245fe0-dc31-4623-a976-d3d7ae89622b"
      },
      "execution_count": 5,
      "outputs": [
        {
          "output_type": "execute_result",
          "data": {
            "text/plain": [
              "'Luis'"
            ],
            "application/vnd.google.colaboratory.intrinsic+json": {
              "type": "string"
            }
          },
          "metadata": {},
          "execution_count": 5
        }
      ]
    },
    {
      "cell_type": "code",
      "source": [
        "idade = 18"
      ],
      "metadata": {
        "id": "2sV3T3njAXDs"
      },
      "execution_count": 6,
      "outputs": []
    },
    {
      "cell_type": "code",
      "source": [
        "idade"
      ],
      "metadata": {
        "colab": {
          "base_uri": "https://localhost:8080/"
        },
        "id": "Ei9rBUSjAcfu",
        "outputId": "e1640122-289b-4521-f440-0e454b04a0b4"
      },
      "execution_count": 7,
      "outputs": [
        {
          "output_type": "execute_result",
          "data": {
            "text/plain": [
              "18"
            ]
          },
          "metadata": {},
          "execution_count": 7
        }
      ]
    },
    {
      "cell_type": "code",
      "source": [
        "print(f'O nome é {nome} e sua idade é {idade} anos')"
      ],
      "metadata": {
        "colab": {
          "base_uri": "https://localhost:8080/"
        },
        "id": "leo_pNjvAdCN",
        "outputId": "f0b5a933-5308-436a-9ac3-47a010dbaf31"
      },
      "execution_count": 9,
      "outputs": [
        {
          "output_type": "stream",
          "name": "stdout",
          "text": [
            "O nome é Luis e sua idade é 18 anos\n"
          ]
        }
      ]
    },
    {
      "cell_type": "markdown",
      "source": [
        "# Criando a minha primeira função"
      ],
      "metadata": {
        "id": "YWGWOASlBGQp"
      }
    },
    {
      "cell_type": "code",
      "source": [
        "def saudacao():\n",
        "  nome =  input('Qual é o seu nome? ')\n",
        "  print(f'Olá {nome}') "
      ],
      "metadata": {
        "id": "PUb3TOdwAxCe"
      },
      "execution_count": 11,
      "outputs": []
    },
    {
      "cell_type": "code",
      "source": [
        "saudacao()"
      ],
      "metadata": {
        "colab": {
          "base_uri": "https://localhost:8080/"
        },
        "id": "YYTZIjrLBukU",
        "outputId": "119cd8b2-a11c-4a8a-fd55-84b60bf2a6c6"
      },
      "execution_count": 13,
      "outputs": [
        {
          "output_type": "stream",
          "name": "stdout",
          "text": [
            "Qual é o seu nome? Luis\n",
            "Olá Luis\n"
          ]
        }
      ]
    },
    {
      "cell_type": "code",
      "source": [
        "def nome_completo():\n",
        " primeiro_nome = input('Qual seu primeiro nome? ')\n",
        " sobrenome = input('Qual seu sobrenome? ')\n",
        " nome_inteiro = primeiro_nome + ' ' + sobrenome\n",
        " print(nome_inteiro)\n",
        "\n",
        "nome_completo()"
      ],
      "metadata": {
        "colab": {
          "base_uri": "https://localhost:8080/"
        },
        "id": "ZQTlWxdwBxmI",
        "outputId": "a5929862-ccab-4986-8736-bc6755fd2df3"
      },
      "execution_count": 14,
      "outputs": [
        {
          "output_type": "stream",
          "name": "stdout",
          "text": [
            "Qual seu primeiro nome? Luis\n",
            "Qual seu sobrenome? Alberto\n",
            "Luis Alberto\n"
          ]
        }
      ]
    },
    {
      "cell_type": "markdown",
      "source": [
        "# Parâmetros"
      ],
      "metadata": {
        "id": "2_O8iNE4ETrw"
      }
    },
    {
      "cell_type": "code",
      "source": [
        "nome = 'Luiza'\n",
        "def saudacao_com_parametro(nome_da_pessoa):\n",
        "  print(f'Olá {nome_da_pessoa}')"
      ],
      "metadata": {
        "id": "cQbSV-21DY78"
      },
      "execution_count": 17,
      "outputs": []
    },
    {
      "cell_type": "code",
      "source": [
        "saudacao_com_parametro(nome)"
      ],
      "metadata": {
        "colab": {
          "base_uri": "https://localhost:8080/"
        },
        "id": "SBgrKrOQEJh7",
        "outputId": "b4f31b60-0bd6-42f3-fc25-1f36eaa3ec75"
      },
      "execution_count": 18,
      "outputs": [
        {
          "output_type": "stream",
          "name": "stdout",
          "text": [
            "Olá Luiza\n"
          ]
        }
      ]
    },
    {
      "cell_type": "markdown",
      "source": [
        "#Condicional"
      ],
      "metadata": {
        "id": "zzxU0DCOEi0m"
      }
    },
    {
      "cell_type": "code",
      "source": [
        "idade = 18\n",
        "\n",
        "def verifica_se_pode_dirigir(idade):\n",
        "  if idade >= 18:\n",
        "    print('Tem permissão para dirigir')\n",
        "  else:\n",
        "    print('Não tem permissão para dirigir')\n",
        "\n",
        "verifica_se_pode_dirigir(idade)"
      ],
      "metadata": {
        "colab": {
          "base_uri": "https://localhost:8080/"
        },
        "id": "G3cFOAyvEldf",
        "outputId": "70a21b70-24c0-4823-fece-d2088bd8d85b"
      },
      "execution_count": 26,
      "outputs": [
        {
          "output_type": "stream",
          "name": "stdout",
          "text": [
            "Tem permissão para dirigir\n"
          ]
        }
      ]
    },
    {
      "cell_type": "markdown",
      "source": [
        "# Convertentedo tipo para Int(Inteiro)\n"
      ],
      "metadata": {
        "id": "nUXx2pqQG13a"
      }
    },
    {
      "cell_type": "code",
      "source": [
        "def verifica_se_pode_dirigir_sem_parametros():\n",
        "  idade = input('Qual a sua idade? ')\n",
        "  idade = int(idade)\n",
        "  if idade >= 18:\n",
        "    print('Você tem permissão para dirigir')\n",
        "  else:\n",
        "    print('Você não tem permissão para dirigir')\n",
        "\n",
        "verifica_se_pode_dirigir_sem_parametros()"
      ],
      "metadata": {
        "id": "6RO5yjIoFAa2"
      },
      "execution_count": null,
      "outputs": []
    },
    {
      "cell_type": "markdown",
      "source": [
        "# Lista"
      ],
      "metadata": {
        "id": "KMK2Yc1RHzYG"
      }
    },
    {
      "cell_type": "code",
      "source": [
        "idade = 18 \n",
        "idade"
      ],
      "metadata": {
        "colab": {
          "base_uri": "https://localhost:8080/"
        },
        "id": "oL4S0eGEH0X6",
        "outputId": "4f725f8f-b7b6-4871-a852-82d8001ef74f"
      },
      "execution_count": 34,
      "outputs": [
        {
          "output_type": "execute_result",
          "data": {
            "text/plain": [
              "18"
            ]
          },
          "metadata": {},
          "execution_count": 34
        }
      ]
    },
    {
      "cell_type": "code",
      "source": [
        "type(idade)"
      ],
      "metadata": {
        "colab": {
          "base_uri": "https://localhost:8080/"
        },
        "id": "J6wdQ-JYH189",
        "outputId": "c0fcd803-0080-4f97-fc79-e42768eee1ed"
      },
      "execution_count": 35,
      "outputs": [
        {
          "output_type": "execute_result",
          "data": {
            "text/plain": [
              "int"
            ]
          },
          "metadata": {},
          "execution_count": 35
        }
      ]
    },
    {
      "cell_type": "code",
      "source": [
        "nome = 'Luis'\n",
        "nome"
      ],
      "metadata": {
        "colab": {
          "base_uri": "https://localhost:8080/",
          "height": 0
        },
        "id": "MFLSuBIqH50U",
        "outputId": "3f3c7ae7-4e78-4bf3-b97d-2eeaa81f2036"
      },
      "execution_count": 36,
      "outputs": [
        {
          "output_type": "execute_result",
          "data": {
            "text/plain": [
              "'Luis'"
            ],
            "application/vnd.google.colaboratory.intrinsic+json": {
              "type": "string"
            }
          },
          "metadata": {},
          "execution_count": 36
        }
      ]
    },
    {
      "cell_type": "code",
      "source": [
        "idades = [18, 22, 15, 50]\n",
        "type(idade)"
      ],
      "metadata": {
        "colab": {
          "base_uri": "https://localhost:8080/"
        },
        "id": "XRiXfT8MH8R9",
        "outputId": "6c8111b7-13f5-4125-cbdd-087a73cc0884"
      },
      "execution_count": 37,
      "outputs": [
        {
          "output_type": "execute_result",
          "data": {
            "text/plain": [
              "int"
            ]
          },
          "metadata": {},
          "execution_count": 37
        }
      ]
    },
    {
      "cell_type": "code",
      "source": [
        "idades[1]"
      ],
      "metadata": {
        "colab": {
          "base_uri": "https://localhost:8080/"
        },
        "id": "4E4LfJ4TIDFD",
        "outputId": "ad3f4222-c222-413d-aa4c-2cf15926c4f2"
      },
      "execution_count": 39,
      "outputs": [
        {
          "output_type": "execute_result",
          "data": {
            "text/plain": [
              "22"
            ]
          },
          "metadata": {},
          "execution_count": 39
        }
      ]
    },
    {
      "cell_type": "code",
      "source": [
        "idades[0:3]"
      ],
      "metadata": {
        "colab": {
          "base_uri": "https://localhost:8080/"
        },
        "id": "Oc-yjApBIFrj",
        "outputId": "291e6fe7-c305-4f8f-ea76-65c3c0940a7e"
      },
      "execution_count": 41,
      "outputs": [
        {
          "output_type": "execute_result",
          "data": {
            "text/plain": [
              "[18, 22, 15]"
            ]
          },
          "metadata": {},
          "execution_count": 41
        }
      ]
    },
    {
      "cell_type": "code",
      "source": [
        "idades[1:]"
      ],
      "metadata": {
        "colab": {
          "base_uri": "https://localhost:8080/"
        },
        "id": "xvpQe7EWIi5c",
        "outputId": "b79a7758-3d5e-49cc-a3b7-474dd3d86a2d"
      },
      "execution_count": 42,
      "outputs": [
        {
          "output_type": "execute_result",
          "data": {
            "text/plain": [
              "[22, 15, 50]"
            ]
          },
          "metadata": {},
          "execution_count": 42
        }
      ]
    },
    {
      "cell_type": "code",
      "source": [
        "idades[-1]"
      ],
      "metadata": {
        "colab": {
          "base_uri": "https://localhost:8080/"
        },
        "id": "nYH6y7OHIoVX",
        "outputId": "04968cbe-e86b-4158-aac2-f68946236f29"
      },
      "execution_count": 43,
      "outputs": [
        {
          "output_type": "execute_result",
          "data": {
            "text/plain": [
              "50"
            ]
          },
          "metadata": {},
          "execution_count": 43
        }
      ]
    },
    {
      "cell_type": "code",
      "source": [
        "idades[-2]"
      ],
      "metadata": {
        "colab": {
          "base_uri": "https://localhost:8080/"
        },
        "id": "89ulI5w7Iscz",
        "outputId": "af623146-22cf-47d6-f216-1069f4abcd29"
      },
      "execution_count": 44,
      "outputs": [
        {
          "output_type": "execute_result",
          "data": {
            "text/plain": [
              "15"
            ]
          },
          "metadata": {},
          "execution_count": 44
        }
      ]
    },
    {
      "cell_type": "code",
      "source": [
        "idades"
      ],
      "metadata": {
        "colab": {
          "base_uri": "https://localhost:8080/"
        },
        "id": "J2aPG3NOI4Qq",
        "outputId": "6db58463-7199-42ca-902f-d3aebb909604"
      },
      "execution_count": 45,
      "outputs": [
        {
          "output_type": "execute_result",
          "data": {
            "text/plain": [
              "[18, 22, 15, 50]"
            ]
          },
          "metadata": {},
          "execution_count": 45
        }
      ]
    },
    {
      "cell_type": "markdown",
      "source": [
        "#Laçoes e Loops"
      ],
      "metadata": {
        "id": "aXhEXJ5sJGE2"
      }
    },
    {
      "cell_type": "code",
      "source": [
        "\n",
        "def verifica_se_pode_dirigir(idade):\n",
        "  if idade >= 18:\n",
        "    print(f'{idade } anos de idade, Tem permissão para dirigir')\n",
        "  else:\n",
        "    print(f'{idade} anos de idade, Não tem permissão para dirigir')\n",
        "\n",
        "for idade in idades:\n",
        "  verifica_se_pode_dirigir(idade)"
      ],
      "metadata": {
        "colab": {
          "base_uri": "https://localhost:8080/"
        },
        "id": "kMWujwIJJIuQ",
        "outputId": "d886d4d7-1f81-40b0-b39a-8e3b85a844a6"
      },
      "execution_count": 53,
      "outputs": [
        {
          "output_type": "stream",
          "name": "stdout",
          "text": [
            "18 anos de idade, Tem permissão para dirigir\n",
            "22 anos de idade, Tem permissão para dirigir\n",
            "15 anos de idade, Não tem permissão para dirigir\n",
            "50 anos de idade, Tem permissão para dirigir\n"
          ]
        }
      ]
    },
    {
      "cell_type": "code",
      "source": [
        "def verifica_se_pode_dirigir(idades):\n",
        "  for idade in idades:\n",
        "    if idade >= 18:\n",
        "      print(f'{idade } anos de idade, Tem permissão para dirigir')\n",
        "  else: \n",
        "    print(f'{idade} anos de idade, Não tem permissão para dirigir')\n",
        "\n",
        "verifica_se_pode_dirigir(idades)"
      ],
      "metadata": {
        "colab": {
          "base_uri": "https://localhost:8080/"
        },
        "id": "NNs5GCcHJuP1",
        "outputId": "b48853d0-f74d-4164-86ca-c68dd31d9710"
      },
      "execution_count": 59,
      "outputs": [
        {
          "output_type": "stream",
          "name": "stdout",
          "text": [
            "18 anos de idade, Tem permissão para dirigir\n",
            "22 anos de idade, Tem permissão para dirigir\n",
            "50 anos de idade, Tem permissão para dirigir\n",
            "50 anos de idade, Não tem permissão para dirigir\n"
          ]
        }
      ]
    },
    {
      "cell_type": "markdown",
      "source": [
        "#Boleano\n"
      ],
      "metadata": {
        "id": "pJj9ed7tZQCx"
      }
    },
    {
      "cell_type": "code",
      "source": [
        "idade = 18 \n",
        "idade >= 18"
      ],
      "metadata": {
        "colab": {
          "base_uri": "https://localhost:8080/"
        },
        "id": "fQxCbE8WK1hh",
        "outputId": "b03473d6-5f51-4721-deb2-845af87eb3aa"
      },
      "execution_count": 1,
      "outputs": [
        {
          "output_type": "execute_result",
          "data": {
            "text/plain": [
              "True"
            ]
          },
          "metadata": {},
          "execution_count": 1
        }
      ]
    },
    {
      "cell_type": "code",
      "source": [
        "idade = 15\n",
        "idade >= 18"
      ],
      "metadata": {
        "colab": {
          "base_uri": "https://localhost:8080/"
        },
        "id": "nk6DlfunZYEa",
        "outputId": "1c855b45-642a-495b-9314-73f205aef485"
      },
      "execution_count": 3,
      "outputs": [
        {
          "output_type": "execute_result",
          "data": {
            "text/plain": [
              "False"
            ]
          },
          "metadata": {},
          "execution_count": 3
        }
      ]
    },
    {
      "cell_type": "code",
      "source": [
        "permissoes = []\n",
        "idades = [20, 14, 40]\n",
        "\n",
        "def verifica_se_pode_dirigir(idades, permissoes):\n",
        "  for idade in idades:\n",
        "    if idade >= 18:\n",
        "      permissoes.append(True)\n",
        "    else:\n",
        "      permissoes.append(False)\n",
        "\n",
        "verifica_se_pode_dirigir(idades, permissoes)\n",
        "      "
      ],
      "metadata": {
        "id": "BslgPXkPZaog"
      },
      "execution_count": 12,
      "outputs": []
    },
    {
      "cell_type": "code",
      "source": [
        "permissoes"
      ],
      "metadata": {
        "colab": {
          "base_uri": "https://localhost:8080/"
        },
        "id": "TuW7VYePaENS",
        "outputId": "38e1a9ad-c694-4dd2-d1d7-d38ce9b08407"
      },
      "execution_count": 13,
      "outputs": [
        {
          "output_type": "execute_result",
          "data": {
            "text/plain": [
              "[True, False, True]"
            ]
          },
          "metadata": {},
          "execution_count": 13
        }
      ]
    },
    {
      "cell_type": "code",
      "source": [
        "for permissao in permissoes:\n",
        "  if permissao == True:\n",
        "    print('Tem permissao para dirigir')\n",
        "  else:\n",
        "    print('Nao tem permissao para dirigir')"
      ],
      "metadata": {
        "colab": {
          "base_uri": "https://localhost:8080/"
        },
        "id": "7r4OhV-ybmpw",
        "outputId": "8944f75a-2123-4124-8f1d-bce7226873a3"
      },
      "execution_count": 15,
      "outputs": [
        {
          "output_type": "stream",
          "name": "stdout",
          "text": [
            "Tem permissao para dirigir\n",
            "Nao tem permissao para dirigir\n",
            "Tem permissao para dirigir\n"
          ]
        }
      ]
    },
    {
      "cell_type": "markdown",
      "source": [
        "# Tipos em uma lista"
      ],
      "metadata": {
        "id": "MUnu5vHTdeQt"
      }
    },
    {
      "cell_type": "code",
      "source": [
        "lista = [ 'Luis', 19, True, '18' ]\n",
        "\n",
        "for elemento in lista:\n",
        "  print(f'O elemento {elemento} e do tipo: ', type(elemento))"
      ],
      "metadata": {
        "colab": {
          "base_uri": "https://localhost:8080/"
        },
        "id": "Rw_omFTrcB_R",
        "outputId": "094ef133-e7e9-44d6-abd5-d883f11b88ab"
      },
      "execution_count": 18,
      "outputs": [
        {
          "output_type": "stream",
          "name": "stdout",
          "text": [
            "O elemento Luis e do tipo:  <class 'str'>\n",
            "O elemento 19 e do tipo:  <class 'int'>\n",
            "O elemento True e do tipo:  <class 'bool'>\n",
            "O elemento 18 e do tipo:  <class 'str'>\n"
          ]
        }
      ]
    },
    {
      "cell_type": "markdown",
      "source": [
        "# Import"
      ],
      "metadata": {
        "id": "-CTvfsSCe48x"
      }
    },
    {
      "cell_type": "code",
      "source": [
        "from random import randrange, seed"
      ],
      "metadata": {
        "id": "mbMW_POJcqi0"
      },
      "execution_count": 28,
      "outputs": []
    },
    {
      "cell_type": "code",
      "source": [
        "seed(11)"
      ],
      "metadata": {
        "id": "TyQDrTRPgCwe"
      },
      "execution_count": 38,
      "outputs": []
    },
    {
      "cell_type": "code",
      "source": [
        "randrange(0,11)"
      ],
      "metadata": {
        "colab": {
          "base_uri": "https://localhost:8080/"
        },
        "id": "DuyuFmmofC-R",
        "outputId": "90652ac5-e7af-4741-b720-0b4758b3b33a"
      },
      "execution_count": 39,
      "outputs": [
        {
          "output_type": "execute_result",
          "data": {
            "text/plain": [
              "7"
            ]
          },
          "metadata": {},
          "execution_count": 39
        }
      ]
    },
    {
      "cell_type": "code",
      "source": [
        "notas_matematicas = []\n",
        "\n",
        "for notas in range(8):\n",
        "  notas_matematicas.append(randrange(0,11))\n",
        "\n",
        "notas_matematicas"
      ],
      "metadata": {
        "colab": {
          "base_uri": "https://localhost:8080/"
        },
        "id": "rRO7s-5mfFWR",
        "outputId": "7328ebf0-3991-4244-cc4c-1f628468b5d3"
      },
      "execution_count": 40,
      "outputs": [
        {
          "output_type": "execute_result",
          "data": {
            "text/plain": [
              "[8, 7, 7, 8, 9, 3, 2, 8]"
            ]
          },
          "metadata": {},
          "execution_count": 40
        }
      ]
    },
    {
      "cell_type": "code",
      "source": [
        "len(notas_matematicas)"
      ],
      "metadata": {
        "colab": {
          "base_uri": "https://localhost:8080/"
        },
        "id": "WB7i3N-1flbX",
        "outputId": "17b3f8ea-2feb-4e6a-9516-20600ba99215"
      },
      "execution_count": 26,
      "outputs": [
        {
          "output_type": "execute_result",
          "data": {
            "text/plain": [
              "8"
            ]
          },
          "metadata": {},
          "execution_count": 26
        }
      ]
    },
    {
      "cell_type": "markdown",
      "source": [
        "#Matplotlin\n"
      ],
      "metadata": {
        "id": "jRWEvbRZhd8l"
      }
    },
    {
      "cell_type": "code",
      "source": [
        "import matplotlib.pyplot as plt"
      ],
      "metadata": {
        "id": "ab2MVW7Pfwat"
      },
      "execution_count": 41,
      "outputs": []
    },
    {
      "cell_type": "code",
      "source": [
        "x = list((range(1, 9)))\n",
        "y = notas_matematicas\n",
        "plt.plot(x, y, marker = 'o')\n",
        "plt.title('Notas de matematica')\n",
        "plt.xlabel('Provas')\n",
        "plt.ylabel('Notas')\n",
        "plt.show()"
      ],
      "metadata": {
        "colab": {
          "base_uri": "https://localhost:8080/",
          "height": 295
        },
        "id": "BgvivOFdhnh5",
        "outputId": "037818ae-3c52-4c4c-be56-91ac2e9c9950"
      },
      "execution_count": 54,
      "outputs": [
        {
          "output_type": "display_data",
          "data": {
            "text/plain": [
              "<Figure size 432x288 with 1 Axes>"
            ],
            "image/png": "[encoded data removed]"
          },
          "metadata": {
            "needs_background": "light"
          }
        }
      ]
    },
    {
      "cell_type": "code",
      "source": [
        "\n",
        "\n",
        "notas_matematica = ['Matemática',8,7,6,6,7,7,8,10]\n",
        "notas_portugues = ['Português',9,9,9,8,5,6,8,5]\n",
        "notas_geografia = ['Geografia',10,10,6,7,7,7,8,7]\n",
        "\n",
        "notas = [notas_matematica, notas_portugues, notas_geografia]\n",
        "\n",
        "for nota in notas:\n",
        "  x = list(range(1, 9))\n",
        "y = nota[1:]\n",
        "plt.plot(x, y, marker='o')\n",
        "plt.xlabel('Provas') \n",
        "plt.ylabel('Notas')\n",
        "plt.title(nota[0])\n",
        "plt.show()"
      ],
      "metadata": {
        "colab": {
          "base_uri": "https://localhost:8080/",
          "height": 295
        },
        "id": "HhQr83tViKiD",
        "outputId": "d490dc65-b510-4152-aac3-6d9261cfb7c9"
      },
      "execution_count": 69,
      "outputs": [
        {
          "output_type": "display_data",
          "data": {
            "text/plain": [
              "<Figure size 432x288 with 1 Axes>"
            ],
            "image/png": "[encoded data removed]"
          },
          "metadata": {
            "needs_background": "light"
          }
        }
      ]
    },
    {
      "cell_type": "code",
      "source": [
        ""
      ],
      "metadata": {
        "id": "yWshRFSkke8a"
      },
      "execution_count": 58,
      "outputs": []
    }
  ]
}